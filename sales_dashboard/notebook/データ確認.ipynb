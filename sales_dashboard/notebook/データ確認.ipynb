{
 "cells": [
  {
   "cell_type": "markdown",
   "id": "a5d5f4a9-cb14-4bd3-8125-8bd76107c1d5",
   "metadata": {},
   "source": [
    "# ライブラリのインポート"
   ]
  },
  {
   "cell_type": "code",
   "execution_count": 1,
   "id": "38541a46-f241-4316-bdeb-ba6c88bc0f26",
   "metadata": {},
   "outputs": [],
   "source": [
    "import os\n",
    "\n",
    "import pandas as pd\n",
    "from matplotlib import pyplot as plt\n",
    "import japanize_matplotlib\n",
    "import seaborn as sns"
   ]
  },
  {
   "cell_type": "markdown",
   "id": "7f0eac56-6739-43ce-9216-ea25b41ba05d",
   "metadata": {},
   "source": [
    "# 想定\n",
    "### 実行PATHの設定\n",
    "- `sales_dashboard` ディレクトリから実行"
   ]
  },
  {
   "cell_type": "code",
   "execution_count": 2,
   "id": "e1098abf-b173-4d3f-b32d-cce3dcebc57b",
   "metadata": {},
   "outputs": [
    {
     "name": "stdout",
     "output_type": "stream",
     "text": [
      "D:\\git_workspaces\\portfolios\\work1\\sales_dashboard\n"
     ]
    }
   ],
   "source": [
    "%cd {os.environ[\"PYTHONPATH\"]}/{os.environ[\"PROJECTNAME\"]}"
   ]
  },
  {
   "cell_type": "markdown",
   "id": "7a256d09-4969-44bf-9b7f-de60a6ad7c40",
   "metadata": {},
   "source": [
    "# データの読み込み\n",
    "\n",
    "### 生データのダウンロード方法\n",
    "- [../data/stores_sales_forecasting/README.md](../data/stores_sales_forecasting/README.md)\n",
    "\n",
    "### 生データファイルPATHを設定\n",
    "- `sales_dashboard/data/stores_sales_forecasting/` 配下に格納した生データCSVファイル(`sales_data_sample.csv`)を利用する想定\n",
    "\n",
    "### エンコードの設定\n",
    "- 英語圏で作成されたファイルによく採用されている `ISO-8859-1` に設定"
   ]
  },
  {
   "cell_type": "code",
   "execution_count": 3,
   "id": "f33c3024-92a5-45a2-803e-e386bbdf59da",
   "metadata": {},
   "outputs": [
    {
     "name": "stdout",
     "output_type": "stream",
     "text": [
      "<class 'pandas.core.frame.DataFrame'>\n",
      "RangeIndex: 2121 entries, 0 to 2120\n",
      "Data columns (total 21 columns):\n",
      " #   Column         Non-Null Count  Dtype  \n",
      "---  ------         --------------  -----  \n",
      " 0   Row ID         2121 non-null   int64  \n",
      " 1   Order ID       2121 non-null   object \n",
      " 2   Order Date     2121 non-null   object \n",
      " 3   Ship Date      2121 non-null   object \n",
      " 4   Ship Mode      2121 non-null   object \n",
      " 5   Customer ID    2121 non-null   object \n",
      " 6   Customer Name  2121 non-null   object \n",
      " 7   Segment        2121 non-null   object \n",
      " 8   Country        2121 non-null   object \n",
      " 9   City           2121 non-null   object \n",
      " 10  State          2121 non-null   object \n",
      " 11  Postal Code    2121 non-null   int64  \n",
      " 12  Region         2121 non-null   object \n",
      " 13  Product ID     2121 non-null   object \n",
      " 14  Category       2121 non-null   object \n",
      " 15  Sub-Category   2121 non-null   object \n",
      " 16  Product Name   2121 non-null   object \n",
      " 17  Sales          2121 non-null   float64\n",
      " 18  Quantity       2121 non-null   int64  \n",
      " 19  Discount       2121 non-null   float64\n",
      " 20  Profit         2121 non-null   float64\n",
      "dtypes: float64(3), int64(3), object(15)\n",
      "memory usage: 348.1+ KB\n"
     ]
    }
   ],
   "source": [
    "# 生データファイルPATH\n",
    "RAW_DATA_FILE_PATH = f'{os.environ[\"PYTHONPATH\"]}/data/stores_sales_forecasting/stores_sales_forecasting.csv'\n",
    "\n",
    "# 読み込み\n",
    "df_raw = pd.read_csv(RAW_DATA_FILE_PATH, encoding='ISO-8859-1')\n",
    "\n",
    "# 各カラムの情報を確認\n",
    "df_raw.info()"
   ]
  },
  {
   "cell_type": "markdown",
   "id": "032d8f77-64fe-48ac-92de-9d39dc77adb4",
   "metadata": {},
   "source": [
    "# 各列の値や分布を確認\n",
    "|  No | カラム名               | 型       | 意味・特徴                                         |\n",
    "| :-: | :----------------- | :------ | :-------------------------------------------- |\n",
    "|  0  | `ORDERNUMBER`      | int64   | 注文番号（各注文を一意に識別）                               |\n",
    "|  1  | `QUANTITYORDERED`  | int64   | 注文数（1注文あたりの商品数）                               |\n",
    "|  2  | `PRICEEACH`        | float64 | 商品単価                                          |\n",
    "|  3  | `ORDERLINENUMBER`  | int64   | 注文内の商品行番号（1つの注文に複数商品がある場合に区別）                 |\n",
    "|  4  | `SALES`            | float64 | 注文行の売上（`QUANTITYORDERED` × `PRICEEACH` などで計算） |\n",
    "|  5  | `ORDERDATE`        | object  | 注文日（文字列型、日時として扱うには変換必要）                       |\n",
    "|  6  | `STATUS`           | object  | 注文ステータス（Shipped, Cancelled など）                |\n",
    "|  7  | `QTR_ID`           | int64   | 注文四半期（1=Q1, 2=Q2...）                          |\n",
    "|  8  | `MONTH_ID`         | int64   | 注文月（1〜12）                                     |\n",
    "|  9  | `YEAR_ID`          | int64   | 注文年（例: 2003, 2004）                            |\n",
    "|  10 | `PRODUCTLINE`      | object  | 商品カテゴリ（Classic Cars, Motorcycles など）          |\n",
    "|  11 | `MSRP`             | int64   | メーカー希望小売価格                                    |\n",
    "|  12 | `PRODUCTCODE`      | object  | 商品コード                                         |\n",
    "|  13 | `CUSTOMERNAME`     | object  | 顧客名                                           |\n",
    "|  14 | `PHONE`            | object  | 顧客の電話番号                                       |\n",
    "|  15 | `ADDRESSLINE1`     | object  | 住所（1行目）                                       |\n",
    "|  16 | `ADDRESSLINE2`     | object  | 住所（2行目：NULL多め）                                |\n",
    "|  17 | `CITY`             | object  | 市区町村名                                         |\n",
    "|  18 | `STATE`            | object  | 州（NULL多め: 国によっては空欄）                           |\n",
    "|  19 | `POSTALCODE`       | object  | 郵便番号（NULLもあり）                                 |\n",
    "|  20 | `COUNTRY`          | object  | 国名                                            |\n",
    "|  21 | `TERRITORY`        | object  | 販売地域（NULLもあり）                                 |\n",
    "|  22 | `CONTACTLASTNAME`  | object  | 顧客担当者の名字                                      |\n",
    "|  23 | `CONTACTFIRSTNAME` | object  | 顧客担当者の名前                                      |\n",
    "|  24 | `DEALSIZE`         | object  | 取引規模（Small, Medium, Large など）                 |\n"
   ]
  },
  {
   "cell_type": "markdown",
   "id": "10e19613-2f42-4eab-9eb7-07d3cb9a1d73",
   "metadata": {},
   "source": [
    "### \"Row ID\"\n",
    "- "
   ]
  },
  {
   "cell_type": "code",
   "execution_count": 32,
   "id": "ed53002e-27f3-4f5a-a301-f00b3c0e3d26",
   "metadata": {},
   "outputs": [
    {
     "data": {
      "text/plain": [
       "0     1\n",
       "1     2\n",
       "2     4\n",
       "3     6\n",
       "4    11\n",
       "Name: Row ID, dtype: int64"
      ]
     },
     "metadata": {},
     "output_type": "display_data"
    },
    {
     "data": {
      "text/plain": [
       "'\"Row ID\"のユニーク数: 2121 / 全サンプル数: 2121'"
      ]
     },
     "execution_count": 32,
     "metadata": {},
     "output_type": "execute_result"
    }
   ],
   "source": [
    "# 先頭の5サンプルを表示\n",
    "display(df_raw[\"Row ID\"].head())\n",
    "\n",
    "# \"Row ID\"のユニーク数\n",
    "unique_row_id_count = df_raw[\"Row ID\"].nunique()\n",
    "\n",
    "f'\"Row ID\"のユニーク数: {unique_row_id_count} / 全サンプル数: {len(df_raw)}'"
   ]
  },
  {
   "cell_type": "markdown",
   "id": "1b9e3796-c609-4e3f-9b22-0ad5ad4df816",
   "metadata": {},
   "source": [
    "### \"Order ID\"\n",
    "- "
   ]
  },
  {
   "cell_type": "code",
   "execution_count": 70,
   "id": "d5ff48ba-1045-4804-8bb7-5cf677c5a114",
   "metadata": {},
   "outputs": [
    {
     "data": {
      "text/plain": [
       "0    CA-2016-152156\n",
       "1    CA-2016-152156\n",
       "2    US-2015-108966\n",
       "3    CA-2014-115812\n",
       "4    CA-2014-115812\n",
       "Name: Order ID, dtype: object"
      ]
     },
     "metadata": {},
     "output_type": "display_data"
    },
    {
     "name": "stdout",
     "output_type": "stream",
     "text": [
      "ユニークな\"Order ID\"の数: 1764\n",
      "重複する\"Order ID\"の数: 357 (全サンプルの 16.8 %)\n",
      "重複するユニークな\"Order IDの数\": 295 (全\"Order ID\"の 16.7 %)\n"
     ]
    },
    {
     "data": {
      "image/png": "[encoded data removed]",
      "text/plain": [
       "<Figure size 640x480 with 1 Axes>"
      ]
     },
     "metadata": {},
     "output_type": "display_data"
    }
   ],
   "source": [
    "# 先頭の5サンプルを表示\n",
    "display(df_raw[\"Order ID\"].head())\n",
    "\n",
    "# ユニークな\"Order ID\"の数\n",
    "unique_order_id_count = df_raw[\"Order ID\"].nunique()\n",
    "print(f'ユニークな\"Order ID\"の数: {unique_order_id_count}')\n",
    "\n",
    "# 重複する\"Order ID\"の数と割合\n",
    "duplicated_order_id_count = df_raw[\"Order ID\"].duplicated().sum()   # 数\n",
    "duplicated_order_id_proportion = '{:.1f}'.format(duplicated_order_id_count / len(df_raw) * 100)   # 割合\n",
    "print(f'重複する\"Order ID\"の数: {duplicated_order_id_count} (全サンプルの {duplicated_order_id_proportion} %)')\n",
    "\n",
    "# 重複するユニークな\"Order ID\"の数と割合\n",
    "duplicated_unique_order_id_count = (df_raw[\"Order ID\"].value_counts() > 1).sum()   # 数\n",
    "duplicated_unique_order_id_proportion = '{:.1f}'.format(duplicated_unique_order_id_count / unique_order_id_count * 100)   # 割合\n",
    "print(f'重複するユニークな\"Order IDの数\": {duplicated_unique_order_id_count} (全\"Order ID\"の {duplicated_unique_order_id_proportion} %)')\n",
    "\n",
    "# \"Order ID\"の重複件数の分布を可視化\n",
    "df_raw[\"Order ID\"].value_counts().hist()\n",
    "plt.title('\"Order ID\"の重複件数の分布')\n",
    "plt.xlabel('1つの\"Order ID\"における重複件数')\n",
    "plt.ylabel('度数')\n",
    "plt.show()"
   ]
  },
  {
   "cell_type": "markdown",
   "id": "b53395a4-0bc0-4bb0-acdd-c05070aa0bd8",
   "metadata": {},
   "source": [
    "### \"Order Date\"\n",
    "- "
   ]
  },
  {
   "cell_type": "code",
   "execution_count": 116,
   "id": "b9bdd53b-3364-46a1-b05a-99bf0f2b3dcd",
   "metadata": {},
   "outputs": [
    {
     "name": "stdout",
     "output_type": "stream",
     "text": [
      "0     11/8/2016\n",
      "1     11/8/2016\n",
      "2    10/11/2015\n",
      "3      6/9/2014\n",
      "4      6/9/2014\n",
      "Name: Order Date, dtype: object\n",
      "\n",
      "▼datetime型に変換:\n",
      "\"Order Date\"(変換前) / \"order_ymd\"(変換後)\n"
     ]
    },
    {
     "data": {
      "text/html": [
       "<div>\n",
       "<style scoped>\n",
       "    .dataframe tbody tr th:only-of-type {\n",
       "        vertical-align: middle;\n",
       "    }\n",
       "\n",
       "    .dataframe tbody tr th {\n",
       "        vertical-align: top;\n",
       "    }\n",
       "\n",
       "    .dataframe thead th {\n",
       "        text-align: right;\n",
       "    }\n",
       "</style>\n",
       "<table border=\"1\" class=\"dataframe\">\n",
       "  <thead>\n",
       "    <tr style=\"text-align: right;\">\n",
       "      <th></th>\n",
       "      <th>Order Date</th>\n",
       "      <th>order_ymd</th>\n",
       "    </tr>\n",
       "  </thead>\n",
       "  <tbody>\n",
       "    <tr>\n",
       "      <th>0</th>\n",
       "      <td>11/8/2016</td>\n",
       "      <td>2016-11-08</td>\n",
       "    </tr>\n",
       "    <tr>\n",
       "      <th>1</th>\n",
       "      <td>11/8/2016</td>\n",
       "      <td>2016-11-08</td>\n",
       "    </tr>\n",
       "    <tr>\n",
       "      <th>2</th>\n",
       "      <td>10/11/2015</td>\n",
       "      <td>2015-10-11</td>\n",
       "    </tr>\n",
       "    <tr>\n",
       "      <th>3</th>\n",
       "      <td>6/9/2014</td>\n",
       "      <td>2014-06-09</td>\n",
       "    </tr>\n",
       "    <tr>\n",
       "      <th>4</th>\n",
       "      <td>6/9/2014</td>\n",
       "      <td>2014-06-09</td>\n",
       "    </tr>\n",
       "  </tbody>\n",
       "</table>\n",
       "</div>"
      ],
      "text/plain": [
       "   Order Date  order_ymd\n",
       "0   11/8/2016 2016-11-08\n",
       "1   11/8/2016 2016-11-08\n",
       "2  10/11/2015 2015-10-11\n",
       "3    6/9/2014 2014-06-09\n",
       "4    6/9/2014 2014-06-09"
      ]
     },
     "metadata": {},
     "output_type": "display_data"
    },
    {
     "name": "stdout",
     "output_type": "stream",
     "text": [
      "\n",
      "▼'yyyy-mm'フォーマットに加工:\n"
     ]
    },
    {
     "data": {
      "text/html": [
       "<div>\n",
       "<style scoped>\n",
       "    .dataframe tbody tr th:only-of-type {\n",
       "        vertical-align: middle;\n",
       "    }\n",
       "\n",
       "    .dataframe tbody tr th {\n",
       "        vertical-align: top;\n",
       "    }\n",
       "\n",
       "    .dataframe thead th {\n",
       "        text-align: right;\n",
       "    }\n",
       "</style>\n",
       "<table border=\"1\" class=\"dataframe\">\n",
       "  <thead>\n",
       "    <tr style=\"text-align: right;\">\n",
       "      <th></th>\n",
       "      <th>order_ymd</th>\n",
       "      <th>order_year_month</th>\n",
       "    </tr>\n",
       "  </thead>\n",
       "  <tbody>\n",
       "    <tr>\n",
       "      <th>0</th>\n",
       "      <td>2016-11-08</td>\n",
       "      <td>2016-11</td>\n",
       "    </tr>\n",
       "    <tr>\n",
       "      <th>1</th>\n",
       "      <td>2016-11-08</td>\n",
       "      <td>2016-11</td>\n",
       "    </tr>\n",
       "    <tr>\n",
       "      <th>2</th>\n",
       "      <td>2015-10-11</td>\n",
       "      <td>2015-10</td>\n",
       "    </tr>\n",
       "    <tr>\n",
       "      <th>3</th>\n",
       "      <td>2014-06-09</td>\n",
       "      <td>2014-06</td>\n",
       "    </tr>\n",
       "    <tr>\n",
       "      <th>4</th>\n",
       "      <td>2014-06-09</td>\n",
       "      <td>2014-06</td>\n",
       "    </tr>\n",
       "  </tbody>\n",
       "</table>\n",
       "</div>"
      ],
      "text/plain": [
       "   order_ymd order_year_month\n",
       "0 2016-11-08          2016-11\n",
       "1 2016-11-08          2016-11\n",
       "2 2015-10-11          2015-10\n",
       "3 2014-06-09          2014-06\n",
       "4 2014-06-09          2014-06"
      ]
     },
     "metadata": {},
     "output_type": "display_data"
    },
    {
     "data": {
      "image/png": "[encoded data removed]",
      "text/plain": [
       "<Figure size 1500x200 with 1 Axes>"
      ]
     },
     "metadata": {},
     "output_type": "display_data"
    }
   ],
   "source": [
    "# 先頭の5サンプルを表示\n",
    "print(df_raw[\"Order Date\"].head())\n",
    "print()\n",
    "\n",
    "# 元のままだと文字列の状態なのでdatetime型に変換\n",
    "df_order_date = df_raw[[\"Order Date\"]].copy()\n",
    "df_order_date[\"order_ymd\"] = pd.to_datetime(df_order_date[\"Order Date\"])\n",
    "print('▼datetime型に変換:\\n\"Order Date\"(変換前) / \"order_ymd\"(変換後)')\n",
    "display(df_order_date.head())\n",
    "print()\n",
    "\n",
    "# 'yyyy-mm'フォーマットに加工\n",
    "df_order_date[\"order_year_month\"] = df_order_date[\"order_ymd\"].dt.strftime('%Y-%m')\n",
    "print(\"▼'yyyy-mm'フォーマットに加工:\")\n",
    "display(df_order_date[[\"order_ymd\", \"order_year_month\"]].head())\n",
    "\n",
    "# 月次サンプル件数の推移を可視化\n",
    "order_year_month_count_series = df_order_date.groupby([\"order_year_month\"])[\"order_ymd\"].count()   # 月次サンプル数を集計\n",
    "order_year_month_count_series.plot.bar(   # 可視化\n",
    "    title='月次サンプル件数の推移',\n",
    "    xlabel='年-月',\n",
    "    ylabel='件数',\n",
    "    figsize=(15, 2),\n",
    "    grid=True,\n",
    ")\n",
    "plt.show()"
   ]
  },
  {
   "cell_type": "code",
   "execution_count": 4,
   "id": "d25e813b-7914-41af-a622-d6d49467b1ab",
   "metadata": {},
   "outputs": [
    {
     "name": "stdout",
     "output_type": "stream",
     "text": [
      "<class 'pandas.core.frame.DataFrame'>\n",
      "RangeIndex: 2121 entries, 0 to 2120\n",
      "Data columns (total 21 columns):\n",
      " #   Column         Non-Null Count  Dtype  \n",
      "---  ------         --------------  -----  \n",
      " 0   Row ID         2121 non-null   int64  \n",
      " 1   Order ID       2121 non-null   object \n",
      " 2   Order Date     2121 non-null   object \n",
      " 3   Ship Date      2121 non-null   object \n",
      " 4   Ship Mode      2121 non-null   object \n",
      " 5   Customer ID    2121 non-null   object \n",
      " 6   Customer Name  2121 non-null   object \n",
      " 7   Segment        2121 non-null   object \n",
      " 8   Country        2121 non-null   object \n",
      " 9   City           2121 non-null   object \n",
      " 10  State          2121 non-null   object \n",
      " 11  Postal Code    2121 non-null   int64  \n",
      " 12  Region         2121 non-null   object \n",
      " 13  Product ID     2121 non-null   object \n",
      " 14  Category       2121 non-null   object \n",
      " 15  Sub-Category   2121 non-null   object \n",
      " 16  Product Name   2121 non-null   object \n",
      " 17  Sales          2121 non-null   float64\n",
      " 18  Quantity       2121 non-null   int64  \n",
      " 19  Discount       2121 non-null   float64\n",
      " 20  Profit         2121 non-null   float64\n",
      "dtypes: float64(3), int64(3), object(15)\n",
      "memory usage: 348.1+ KB\n"
     ]
    }
   ],
   "source": [
    "df_raw.info()"
   ]
  }
 ],
 "metadata": {
  "kernelspec": {
   "display_name": "Python 3 (ipykernel)",
   "language": "python",
   "name": "python3"
  },
  "language_info": {
   "codemirror_mode": {
    "name": "ipython",
    "version": 3
   },
   "file_extension": ".py",
   "mimetype": "text/x-python",
   "name": "python",
   "nbconvert_exporter": "python",
   "pygments_lexer": "ipython3",
   "version": "3.13.3"
  }
 },
 "nbformat": 4,
 "nbformat_minor": 5
}
