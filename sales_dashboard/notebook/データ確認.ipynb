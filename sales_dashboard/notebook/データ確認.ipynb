{
 "cells": [
  {
   "cell_type": "markdown",
   "id": "a5d5f4a9-cb14-4bd3-8125-8bd76107c1d5",
   "metadata": {},
   "source": [
    "# ライブラリのインポート"
   ]
  },
  {
   "cell_type": "code",
   "execution_count": 1,
   "id": "38541a46-f241-4316-bdeb-ba6c88bc0f26",
   "metadata": {},
   "outputs": [],
   "source": [
    "import os\n",
    "import pandas as pd"
   ]
  },
  {
   "cell_type": "markdown",
   "id": "7f0eac56-6739-43ce-9216-ea25b41ba05d",
   "metadata": {},
   "source": [
    "# 想定\n",
    "### 実行PATHの設定\n",
    "- `sales_dashboard` ディレクトリから実行"
   ]
  },
  {
   "cell_type": "code",
   "execution_count": 6,
   "id": "e1098abf-b173-4d3f-b32d-cce3dcebc57b",
   "metadata": {},
   "outputs": [
    {
     "name": "stdout",
     "output_type": "stream",
     "text": [
      "D:\\git_workspaces\\portfolios\\sales_dashboard\n"
     ]
    }
   ],
   "source": [
    "%cd {os.environ[\"PYTHONPATH\"]}"
   ]
  },
  {
   "cell_type": "markdown",
   "id": "7a256d09-4969-44bf-9b7f-de60a6ad7c40",
   "metadata": {},
   "source": [
    "# データの読み込み\n",
    "\n",
    "### 生データのダウンロード方法\n",
    "- [../data/sample_sales_data/README.md](../data/sales_data_sample/README.md)\n",
    "\n",
    "### 生データファイルPATHを設定\n",
    "- `sales_dashboard/data/sales_data_sample/` 配下に格納した生データCSVファイル(`sales_data_sample.csv`)を利用する想定\n",
    "\n",
    "### エンコードの設定\n",
    "- 英語圏で作成されたファイルによく採用されている `ISO-8859-1` に設定"
   ]
  },
  {
   "cell_type": "code",
   "execution_count": 11,
   "id": "f33c3024-92a5-45a2-803e-e386bbdf59da",
   "metadata": {},
   "outputs": [
    {
     "name": "stdout",
     "output_type": "stream",
     "text": [
      "<class 'pandas.core.frame.DataFrame'>\n",
      "RangeIndex: 2823 entries, 0 to 2822\n",
      "Data columns (total 25 columns):\n",
      " #   Column            Non-Null Count  Dtype  \n",
      "---  ------            --------------  -----  \n",
      " 0   ORDERNUMBER       2823 non-null   int64  \n",
      " 1   QUANTITYORDERED   2823 non-null   int64  \n",
      " 2   PRICEEACH         2823 non-null   float64\n",
      " 3   ORDERLINENUMBER   2823 non-null   int64  \n",
      " 4   SALES             2823 non-null   float64\n",
      " 5   ORDERDATE         2823 non-null   object \n",
      " 6   STATUS            2823 non-null   object \n",
      " 7   QTR_ID            2823 non-null   int64  \n",
      " 8   MONTH_ID          2823 non-null   int64  \n",
      " 9   YEAR_ID           2823 non-null   int64  \n",
      " 10  PRODUCTLINE       2823 non-null   object \n",
      " 11  MSRP              2823 non-null   int64  \n",
      " 12  PRODUCTCODE       2823 non-null   object \n",
      " 13  CUSTOMERNAME      2823 non-null   object \n",
      " 14  PHONE             2823 non-null   object \n",
      " 15  ADDRESSLINE1      2823 non-null   object \n",
      " 16  ADDRESSLINE2      302 non-null    object \n",
      " 17  CITY              2823 non-null   object \n",
      " 18  STATE             1337 non-null   object \n",
      " 19  POSTALCODE        2747 non-null   object \n",
      " 20  COUNTRY           2823 non-null   object \n",
      " 21  TERRITORY         1749 non-null   object \n",
      " 22  CONTACTLASTNAME   2823 non-null   object \n",
      " 23  CONTACTFIRSTNAME  2823 non-null   object \n",
      " 24  DEALSIZE          2823 non-null   object \n",
      "dtypes: float64(2), int64(7), object(16)\n",
      "memory usage: 551.5+ KB\n"
     ]
    }
   ],
   "source": [
    "# 生データファイルPATH\n",
    "RAW_DATA_FILE_PATH = f'{os.environ[\"PYTHONPATH\"]}/data/sales_data_sample/sales_data_sample.csv'\n",
    "\n",
    "# 読み込み\n",
    "df_raw = pd.read_csv(RAW_DATA_FILE_PATH, encoding='ISO-8859-1')\n",
    "\n",
    "# 各カラムの情報を確認\n",
    "df_raw.info()"
   ]
  },
  {
   "cell_type": "markdown",
   "id": "032d8f77-64fe-48ac-92de-9d39dc77adb4",
   "metadata": {},
   "source": [
    "# 各列の値や分布を確認\n",
    "|  No | カラム名               | 型       | 意味・特徴                                         |\n",
    "| :-: | :----------------- | :------ | :-------------------------------------------- |\n",
    "|  0  | `ORDERNUMBER`      | int64   | 注文番号（各注文を一意に識別）                               |\n",
    "|  1  | `QUANTITYORDERED`  | int64   | 注文数（1注文あたりの商品数）                               |\n",
    "|  2  | `PRICEEACH`        | float64 | 商品単価                                          |\n",
    "|  3  | `ORDERLINENUMBER`  | int64   | 注文内の商品行番号（1つの注文に複数商品がある場合に区別）                 |\n",
    "|  4  | `SALES`            | float64 | 注文行の売上（`QUANTITYORDERED` × `PRICEEACH` などで計算） |\n",
    "|  5  | `ORDERDATE`        | object  | 注文日（文字列型、日時として扱うには変換必要）                       |\n",
    "|  6  | `STATUS`           | object  | 注文ステータス（Shipped, Cancelled など）                |\n",
    "|  7  | `QTR_ID`           | int64   | 注文四半期（1=Q1, 2=Q2...）                          |\n",
    "|  8  | `MONTH_ID`         | int64   | 注文月（1〜12）                                     |\n",
    "|  9  | `YEAR_ID`          | int64   | 注文年（例: 2003, 2004）                            |\n",
    "|  10 | `PRODUCTLINE`      | object  | 商品カテゴリ（Classic Cars, Motorcycles など）          |\n",
    "|  11 | `MSRP`             | int64   | メーカー希望小売価格                                    |\n",
    "|  12 | `PRODUCTCODE`      | object  | 商品コード                                         |\n",
    "|  13 | `CUSTOMERNAME`     | object  | 顧客名                                           |\n",
    "|  14 | `PHONE`            | object  | 顧客の電話番号                                       |\n",
    "|  15 | `ADDRESSLINE1`     | object  | 住所（1行目）                                       |\n",
    "|  16 | `ADDRESSLINE2`     | object  | 住所（2行目：NULL多め）                                |\n",
    "|  17 | `CITY`             | object  | 市区町村名                                         |\n",
    "|  18 | `STATE`            | object  | 州（NULL多め: 国によっては空欄）                           |\n",
    "|  19 | `POSTALCODE`       | object  | 郵便番号（NULLもあり）                                 |\n",
    "|  20 | `COUNTRY`          | object  | 国名                                            |\n",
    "|  21 | `TERRITORY`        | object  | 販売地域（NULLもあり）                                 |\n",
    "|  22 | `CONTACTLASTNAME`  | object  | 顧客担当者の名字                                      |\n",
    "|  23 | `CONTACTFIRSTNAME` | object  | 顧客担当者の名前                                      |\n",
    "|  24 | `DEALSIZE`         | object  | 取引規模（Small, Medium, Large など）                 |\n"
   ]
  },
  {
   "cell_type": "markdown",
   "id": "10e19613-2f42-4eab-9eb7-07d3cb9a1d73",
   "metadata": {},
   "source": [
    "### ORDERNUMBER\n",
    "- 受注番号"
   ]
  },
  {
   "cell_type": "code",
   "execution_count": 13,
   "id": "ed53002e-27f3-4f5a-a301-f00b3c0e3d26",
   "metadata": {},
   "outputs": [
    {
     "data": {
      "text/plain": [
       "<Axes: >"
      ]
     },
     "execution_count": 13,
     "metadata": {},
     "output_type": "execute_result"
    },
    {
     "data": {
      "image/png": "[encoded data removed]",
      "text/plain": [
       "<Figure size 640x480 with 1 Axes>"
      ]
     },
     "metadata": {},
     "output_type": "display_data"
    }
   ],
   "source": [
    "df_raw[\"ORDERNUMBER\"].hist(bins=100)"
   ]
  },
  {
   "cell_type": "markdown",
   "id": "a689ebe0-e70f-4505-8c50-80db0c280e83",
   "metadata": {},
   "source": [
    "### QUANTITYORDERED\n",
    "- 受注数量"
   ]
  },
  {
   "cell_type": "code",
   "execution_count": 15,
   "id": "dcb87f11-407d-4dcb-b401-fad662d63691",
   "metadata": {},
   "outputs": [
    {
     "data": {
      "text/plain": [
       "<Axes: >"
      ]
     },
     "execution_count": 15,
     "metadata": {},
     "output_type": "execute_result"
    },
    {
     "data": {
      "image/png": "[encoded data removed]",
      "text/plain": [
       "<Figure size 640x480 with 1 Axes>"
      ]
     },
     "metadata": {},
     "output_type": "display_data"
    }
   ],
   "source": [
    "df_raw[\"QUANTITYORDERED\"].hist(bins=100)"
   ]
  },
  {
   "cell_type": "markdown",
   "id": "44487d48-88d7-4062-b185-be92174728a4",
   "metadata": {},
   "source": [
    "### PRICEEACH\n",
    "\n",
    "|  No | カラム名               | 型       | 意味・特徴                                         |\n",
    "| :-: | :----------------- | :------ | :-------------------------------------------- |\n",
    "|  0  | `ORDERNUMBER`      | int64   | 注文番号（各注文を一意に識別）                               |\n",
    "|  1  | `QUANTITYORDERED`  | int64   | 注文数（1注文あたりの商品数）                               |\n",
    "|  2  | `PRICEEACH`        | float64 | 商品単価                                          |\n",
    "|  3  | `ORDERLINENUMBER`  | int64   | 注文内の商品行番号（1つの注文に複数商品がある場合に区別）                 |\n",
    "|  4  | `SALES`            | float64 | 注文行の売上（`QUANTITYORDERED` × `PRICEEACH` などで計算） |\n",
    "|  5  | `ORDERDATE`        | object  | 注文日（文字列型、日時として扱うには変換必要）                       |\n",
    "|  6  | `STATUS`           | object  | 注文ステータス（Shipped, Cancelled など）                |\n",
    "|  7  | `QTR_ID`           | int64   | 注文四半期（1=Q1, 2=Q2...）                          |\n",
    "|  8  | `MONTH_ID`         | int64   | 注文月（1〜12）                                     |\n",
    "|  9  | `YEAR_ID`          | int64   | 注文年（例: 2003, 2004）                            |\n",
    "|  10 | `PRODUCTLINE`      | object  | 商品カテゴリ（Classic Cars, Motorcycles など）          |\n",
    "|  11 | `MSRP`             | int64   | メーカー希望小売価格                                    |\n",
    "|  12 | `PRODUCTCODE`      | object  | 商品コード                                         |\n",
    "|  13 | `CUSTOMERNAME`     | object  | 顧客名                                           |\n",
    "|  14 | `PHONE`            | object  | 顧客の電話番号                                       |\n",
    "|  15 | `ADDRESSLINE1`     | object  | 住所（1行目）                                       |\n",
    "|  16 | `ADDRESSLINE2`     | object  | 住所（2行目：NULL多め）                                |\n",
    "|  17 | `CITY`             | object  | 市区町村名                                         |\n",
    "|  18 | `STATE`            | object  | 州（NULL多め: 国によっては空欄）                           |\n",
    "|  19 | `POSTALCODE`       | object  | 郵便番号（NULLもあり）                                 |\n",
    "|  20 | `COUNTRY`          | object  | 国名                                            |\n",
    "|  21 | `TERRITORY`        | object  | 販売地域（NULLもあり）                                 |\n",
    "|  22 | `CONTACTLASTNAME`  | object  | 顧客担当者の名字                                      |\n",
    "|  23 | `CONTACTFIRSTNAME` | object  | 顧客担当者の名前                                      |\n",
    "|  24 | `DEALSIZE`         | object  | 取引規模（Small, Medium, Large など）                 |\n"
   ]
  },
  {
   "cell_type": "code",
   "execution_count": 16,
   "id": "d25e813b-7914-41af-a622-d6d49467b1ab",
   "metadata": {},
   "outputs": [
    {
     "name": "stdout",
     "output_type": "stream",
     "text": [
      "<class 'pandas.core.frame.DataFrame'>\n",
      "RangeIndex: 2823 entries, 0 to 2822\n",
      "Data columns (total 25 columns):\n",
      " #   Column            Non-Null Count  Dtype  \n",
      "---  ------            --------------  -----  \n",
      " 0   ORDERNUMBER       2823 non-null   int64  \n",
      " 1   QUANTITYORDERED   2823 non-null   int64  \n",
      " 2   PRICEEACH         2823 non-null   float64\n",
      " 3   ORDERLINENUMBER   2823 non-null   int64  \n",
      " 4   SALES             2823 non-null   float64\n",
      " 5   ORDERDATE         2823 non-null   object \n",
      " 6   STATUS            2823 non-null   object \n",
      " 7   QTR_ID            2823 non-null   int64  \n",
      " 8   MONTH_ID          2823 non-null   int64  \n",
      " 9   YEAR_ID           2823 non-null   int64  \n",
      " 10  PRODUCTLINE       2823 non-null   object \n",
      " 11  MSRP              2823 non-null   int64  \n",
      " 12  PRODUCTCODE       2823 non-null   object \n",
      " 13  CUSTOMERNAME      2823 non-null   object \n",
      " 14  PHONE             2823 non-null   object \n",
      " 15  ADDRESSLINE1      2823 non-null   object \n",
      " 16  ADDRESSLINE2      302 non-null    object \n",
      " 17  CITY              2823 non-null   object \n",
      " 18  STATE             1337 non-null   object \n",
      " 19  POSTALCODE        2747 non-null   object \n",
      " 20  COUNTRY           2823 non-null   object \n",
      " 21  TERRITORY         1749 non-null   object \n",
      " 22  CONTACTLASTNAME   2823 non-null   object \n",
      " 23  CONTACTFIRSTNAME  2823 non-null   object \n",
      " 24  DEALSIZE          2823 non-null   object \n",
      "dtypes: float64(2), int64(7), object(16)\n",
      "memory usage: 551.5+ KB\n"
     ]
    }
   ],
   "source": [
    "df_raw.info()"
   ]
  }
 ],
 "metadata": {
  "kernelspec": {
   "display_name": "Python 3 (ipykernel)",
   "language": "python",
   "name": "python3"
  },
  "language_info": {
   "codemirror_mode": {
    "name": "ipython",
    "version": 3
   },
   "file_extension": ".py",
   "mimetype": "text/x-python",
   "name": "python",
   "nbconvert_exporter": "python",
   "pygments_lexer": "ipython3",
   "version": "3.13.3"
  }
 },
 "nbformat": 4,
 "nbformat_minor": 5
}
